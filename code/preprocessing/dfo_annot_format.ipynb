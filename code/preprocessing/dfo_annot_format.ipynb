{
 "cells": [
  {
   "cell_type": "code",
   "execution_count": null,
   "metadata": {},
   "outputs": [],
   "source": [
    "import pandas as pd"
   ]
  },
  {
   "cell_type": "code",
   "execution_count": null,
   "metadata": {},
   "outputs": [],
   "source": [
    "path_dict = {'original_annot': '../../annotations/original/'}\n",
    "# Read DFO annotation\n",
    "annot_df = pd.read_csv(path_dict['original_annot']+\"DFOCRP_H50bjRcb-WCV1_ValidatedDetections.csv\")\n",
    "annot_df.head()"
   ]
  },
  {
   "cell_type": "code",
   "execution_count": null,
   "metadata": {},
   "outputs": [],
   "source": [
    "all_filenames=annot_df['filename'].unique()\n",
    "len(all_filenames)"
   ]
  },
  {
   "cell_type": "code",
   "execution_count": null,
   "metadata": {},
   "outputs": [],
   "source": [
    "print(\"Len before: \", len(annot_df))"
   ]
  },
  {
   "cell_type": "code",
   "execution_count": null,
   "metadata": {},
   "outputs": [],
   "source": [
    "def merge_intervals(intervals_list, freq_intervals_list):\n",
    "    \"\"\" Merge overlapping time and freq annotations\n",
    "     \n",
    "        Args:\n",
    "            intervals_list: list\n",
    "                Start and end annotation list with overlaps.\n",
    "            freq_intervals_list: list\n",
    "                Corresponding max and min freq annotation.\n",
    "\n",
    "        Returns:\n",
    "            merged_time_intervals: list\n",
    "                Time annotations after merging overlapping annotations intervals\n",
    "            merged_freq_intervals: list\n",
    "                Freq annotations after merging overlapping annotations intervals\n",
    "    \"\"\"\n",
    "    temp_intervals_list=intervals_list.copy()\n",
    "    merged_freq_intervals = []\n",
    "    intervals_list.sort(key=lambda interval: interval[0])\n",
    "    merged_time_intervals = [intervals_list[0]]\n",
    "    \n",
    "    for current in intervals_list:\n",
    "        previous = merged_time_intervals[-1]\n",
    "        if current[0] <= previous[1]:\n",
    "            previous[1] = max(previous[1], current[1])\n",
    "        else:\n",
    "            merged_time_intervals.append(current)\n",
    "\n",
    "    # Get corresponding min max freq range\n",
    "    for each_interval in merged_time_intervals:\n",
    "        min_feq, max_feq = 99999.0, 0.0\n",
    "        for interval_index in range(len(temp_intervals_list)):\n",
    "            if((each_interval[0]==temp_intervals_list[interval_index][0]) and (freq_intervals_list[interval_index][0] < min_feq)):\n",
    "                min_feq=freq_intervals_list[interval_index][0]\n",
    "            if((each_interval[1]==temp_intervals_list[interval_index][1]) and (freq_intervals_list[interval_index][1] > max_feq)):\n",
    "                max_feq=freq_intervals_list[interval_index][1]\n",
    "        merged_freq_intervals.append([min_feq, max_feq])\n",
    "            \n",
    "    return merged_time_intervals, merged_freq_intervals"
   ]
  },
  {
   "cell_type": "code",
   "execution_count": null,
   "metadata": {},
   "outputs": [],
   "source": [
    "# Extract all the annotations of each unique file\n",
    "column_name_mapping={'filename': 'filename',\n",
    "                      'start': 'start',\n",
    "                      'end': 'end',\n",
    "                      'freq_min': 'lowFreq',\n",
    "                      'freq_max': 'highFreq',\n",
    "                      'label': 'Sound.ID.Species'}\n",
    "overlap_count_dict = {}\n",
    "row_list=[]\n",
    "\n",
    "for filename in all_filenames:\n",
    "    # Filter out the annotations for each file\n",
    "    annot_df_filtered_with_filename = annot_df[annot_df[column_name_mapping['filename']] == filename]\n",
    "    label_list_of_filtered_file=annot_df_filtered_with_filename[column_name_mapping['label']].unique()\n",
    "\n",
    "    # Now, iterate thorugh all unique labels from that file\n",
    "    for each_label in label_list_of_filtered_file:\n",
    "        overlap_count = 0\n",
    "        annot_df_filtered_with_filename_with_label = annot_df_filtered_with_filename[annot_df_filtered_with_filename[column_name_mapping['label']] == each_label]\n",
    "\n",
    "        # If this file has more than one annotation entry for any label, then iterate thorugh them\n",
    "        if(len(annot_df_filtered_with_filename_with_label)>1):\n",
    "            start_list=annot_df_filtered_with_filename_with_label[column_name_mapping['start']].values\n",
    "            end_list=annot_df_filtered_with_filename_with_label[column_name_mapping['end']].values\n",
    "            time_intervals_list=list(map(list, list(zip(start_list, end_list))))\n",
    "\n",
    "            freq_min_list=annot_df_filtered_with_filename_with_label[column_name_mapping['freq_min']].values\n",
    "            freq_max_list=annot_df_filtered_with_filename_with_label[column_name_mapping['freq_max']].values\n",
    "            freq_intervals_list=list(map(list, list(zip(freq_min_list, freq_max_list))))\n",
    "\n",
    "            merged_time_intervals_list, merged_freq_intervals_list=merge_intervals(time_intervals_list, freq_intervals_list)\n",
    "\n",
    "            assert len(merged_time_intervals_list)==len(merged_freq_intervals_list)\n",
    "            for i in range(len(merged_time_intervals_list)):\n",
    "                row_list.append([filename, # filename\n",
    "                                merged_time_intervals_list[i][0], # start\n",
    "                                merged_time_intervals_list[i][1], # end\n",
    "                                merged_freq_intervals_list[i][0], # freq_min\n",
    "                                merged_freq_intervals_list[i][1], # freq_max\n",
    "                                each_label]) # label\n",
    "\n",
    "        # Else, there is only one annotation in that file for the label\n",
    "        else:\n",
    "            row_list.append([annot_df_filtered_with_filename_with_label[column_name_mapping['filename']].values[0], # filename\n",
    "                            annot_df_filtered_with_filename_with_label[column_name_mapping['start']].values[0], # start\n",
    "                            annot_df_filtered_with_filename_with_label[column_name_mapping['end']].values[0], # end\n",
    "                            annot_df_filtered_with_filename_with_label[column_name_mapping['freq_min']].values[0], # freq_min\n",
    "                            annot_df_filtered_with_filename_with_label[column_name_mapping['freq_max']].values[0], # freq_max\n",
    "                            annot_df_filtered_with_filename_with_label[column_name_mapping['label']].values[0]]) # label"
   ]
  },
  {
   "cell_type": "code",
   "execution_count": null,
   "metadata": {},
   "outputs": [],
   "source": [
    "annot_df = pd.DataFrame(row_list, columns=[column_name_mapping['filename'],\n",
    "                                           column_name_mapping['start'],\n",
    "                                           column_name_mapping['end'],\n",
    "                                           column_name_mapping['freq_min'],\n",
    "                                           column_name_mapping['freq_max'],\n",
    "                                           column_name_mapping['label']]) \n",
    "print(\"Len after removing overlapping annotations:\", len(annot_df))"
   ]
  }
 ],
 "metadata": {
  "interpreter": {
   "hash": "c989657e653bc3928e1ad88a71d273a0d66128a86b844b14ee421e5b93aaf328"
  },
  "kernelspec": {
   "display_name": "Python 3.7.11 64-bit ('deeplearning': conda)",
   "language": "python",
   "name": "python3"
  },
  "language_info": {
   "codemirror_mode": {
    "name": "ipython",
    "version": 3
   },
   "file_extension": ".py",
   "mimetype": "text/x-python",
   "name": "python",
   "nbconvert_exporter": "python",
   "pygments_lexer": "ipython3",
   "version": "3.7.11"
  },
  "orig_nbformat": 4
 },
 "nbformat": 4,
 "nbformat_minor": 2
}
