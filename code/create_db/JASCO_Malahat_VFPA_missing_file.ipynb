{
 "cells": [
  {
   "cell_type": "code",
   "execution_count": 1,
   "metadata": {},
   "outputs": [],
   "source": [
    "import pandas as pd\n",
    "import os"
   ]
  },
  {
   "cell_type": "code",
   "execution_count": 5,
   "metadata": {},
   "outputs": [],
   "source": [
    "path_dict={ 'original_annot': '../../annotations/original/',\n",
    "            'train_annot': '../../annotations/train/',\n",
    "            'test_annot': '../../annotations/test/' }\n",
    "            \n",
    "cedar_username='sadman'\n",
    "\n",
    "# Database-related parameters\n",
    "db_name_string='jasco_malahat_vfpa'\n",
    "annot_filename='JASCO_Malahat_VFPA_reformatted_annotations.csv'"
   ]
  },
  {
   "cell_type": "code",
   "execution_count": 6,
   "metadata": {},
   "outputs": [],
   "source": [
    "# Load annotation files\n",
    "annot_df=pd.read_csv(path_dict['original_annot']+annot_filename, sep=',')\n",
    "\n",
    "# Adding data dir path with the filename\n",
    "for index, row in annot_df.iterrows():\n",
    "    # Update filenames with the appropriate full-paths\n",
    "    if('SHMALAHAT' in row['filename']):\n",
    "        annot_df.at[index, 'filename']='/home/'+cedar_username+'/projects/ctb-ruthjoy/SRKW/JASCO/Malahat/'+row['filename']\n",
    "    elif('VFPA-' in row['filename']):\n",
    "        annot_df.at[index, 'filename']='/home/'+cedar_username+'/projects/ctb-ruthjoy/SRKW/JASCO/VFPA/'+row['filename']"
   ]
  },
  {
   "cell_type": "code",
   "execution_count": 8,
   "metadata": {},
   "outputs": [],
   "source": [
    "missing_files=[]\n",
    "for file in annot_df['filename'].values:\n",
    "    if(os.path.isfile(file)==False):\n",
    "        missing_files.append(file)"
   ]
  }
 ],
 "metadata": {
  "interpreter": {
   "hash": "8fcf4921949a2da5b6e9a2015452f59f49555d5ed85263e5b8df10d05c8a5fe5"
  },
  "kernelspec": {
   "display_name": "Python 3 (ipykernel)",
   "language": "python",
   "name": "python3"
  },
  "language_info": {
   "codemirror_mode": {
    "name": "ipython",
    "version": 3
   },
   "file_extension": ".py",
   "mimetype": "text/x-python",
   "name": "python",
   "nbconvert_exporter": "python",
   "pygments_lexer": "ipython3",
   "version": "3.7.9"
  }
 },
 "nbformat": 4,
 "nbformat_minor": 4
}
